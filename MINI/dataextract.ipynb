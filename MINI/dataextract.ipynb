{
 "cells": [
  {
   "cell_type": "markdown",
   "id": "6277da96-cd15-4a97-b09f-0937029edeee",
   "metadata": {},
   "source": [
    "# GDP Data extraction and processing"
   ]
  },
  {
   "cell_type": "markdown",
   "id": "a8205290-0461-4543-a50a-2272dfb324b2",
   "metadata": {},
   "source": [
    "Creating a script that can extract the list of the top 10 largest economies of the world in descending order of their GDPs in Billion USD (rounded to 2 decimal places), as logged by the International Monetary Fund (IMF)."
   ]
  },
  {
   "cell_type": "code",
   "execution_count": 20,
   "id": "4bbe8d38-a3b9-437a-b3f5-4c3fd9064476",
   "metadata": {},
   "outputs": [
    {
     "name": "stdout",
     "output_type": "stream",
     "text": [
      "Requirement already satisfied: pandas in c:\\users\\ragav\\appdata\\local\\programs\\python\\python313\\lib\\site-packages (2.3.1)\n",
      "Requirement already satisfied: numpy in c:\\users\\ragav\\appdata\\local\\programs\\python\\python313\\lib\\site-packages (2.3.2)\n",
      "Requirement already satisfied: python-dateutil>=2.8.2 in c:\\users\\ragav\\appdata\\local\\programs\\python\\python313\\lib\\site-packages (from pandas) (2.9.0.post0)\n",
      "Requirement already satisfied: pytz>=2020.1 in c:\\users\\ragav\\appdata\\local\\programs\\python\\python313\\lib\\site-packages (from pandas) (2025.2)\n",
      "Requirement already satisfied: tzdata>=2022.7 in c:\\users\\ragav\\appdata\\local\\programs\\python\\python313\\lib\\site-packages (from pandas) (2025.2)\n",
      "Requirement already satisfied: six>=1.5 in c:\\users\\ragav\\appdata\\local\\programs\\python\\python313\\lib\\site-packages (from python-dateutil>=2.8.2->pandas) (1.17.0)\n"
     ]
    },
    {
     "name": "stderr",
     "output_type": "stream",
     "text": [
      "\n",
      "[notice] A new release of pip is available: 25.1.1 -> 25.2\n",
      "[notice] To update, run: python.exe -m pip install --upgrade pip\n"
     ]
    },
    {
     "name": "stdout",
     "output_type": "stream",
     "text": [
      "Requirement already satisfied: lxml in c:\\users\\ragav\\appdata\\local\\programs\\python\\python313\\lib\\site-packages (6.0.0)\n"
     ]
    },
    {
     "name": "stderr",
     "output_type": "stream",
     "text": [
      "\n",
      "[notice] A new release of pip is available: 25.1.1 -> 25.2\n",
      "[notice] To update, run: python.exe -m pip install --upgrade pip\n"
     ]
    }
   ],
   "source": [
    "#Installing Required PAckages:\n",
    "\n",
    "!pip install pandas numpy \n",
    "!pip install lxml\n"
   ]
  },
  {
   "cell_type": "code",
   "execution_count": 21,
   "id": "d366227a-6984-408a-bb8b-f92ee712041d",
   "metadata": {},
   "outputs": [],
   "source": [
    "#Importing libraries\n",
    "import numpy as np\n",
    "import pandas as pd"
   ]
  },
  {
   "cell_type": "markdown",
   "id": "409fd16a-161b-4ddc-906f-7224ca573ea9",
   "metadata": {},
   "source": [
    "Use the following URL to extract the GDP info."
   ]
  },
  {
   "cell_type": "code",
   "execution_count": 22,
   "id": "53cfc7a5-320e-4f9a-a0f7-875537069ead",
   "metadata": {},
   "outputs": [],
   "source": [
    "URL=\"https://web.archive.org/web/20250106130614/https://en.wikipedia.org/wiki/List_of_countries_by_GDP_(nominal)\""
   ]
  },
  {
   "cell_type": "markdown",
   "id": "ea381eff-8c19-41ee-a71b-322dc859a18f",
   "metadata": {},
   "source": [
    "We require only the info from the table, so use pandas directly to get the table alone and the GDP table is at index 3 for which we will create a new DataFrame ."
   ]
  },
  {
   "cell_type": "code",
   "execution_count": 50,
   "id": "05252789-6e1e-4cf5-981e-da24718d6812",
   "metadata": {},
   "outputs": [],
   "source": [
    "tables=pd.read_html(URL)\n",
    "df=tables[3]"
   ]
  },
  {
   "cell_type": "markdown",
   "id": "46feff29-2e64-4f6f-ae0b-1bb7c4d91656",
   "metadata": {},
   "source": [
    "WE need only the county's name and its GDP in IMF. lets convert the column names to numerics so its easier to access."
   ]
  },
  {
   "cell_type": "code",
   "execution_count": 51,
   "id": "1859d5cc-6867-4742-8359-ed318d909ccc",
   "metadata": {},
   "outputs": [],
   "source": [
    "df.columns=range(df.shape[1])"
   ]
  },
  {
   "cell_type": "code",
   "execution_count": 52,
   "id": "b5e0aa8d-5a09-4acd-9733-2d5d7a0ea3f1",
   "metadata": {},
   "outputs": [],
   "source": [
    "df=df[[0,1]]\n",
    "# Country's name and GDP by IMF is at 0th and 1st index respectively."
   ]
  },
  {
   "cell_type": "code",
   "execution_count": 53,
   "id": "98b44e6a-edbf-42c3-b39f-6a4dd232089b",
   "metadata": {},
   "outputs": [],
   "source": [
    "df=df.iloc[1:11,:]\n",
    "#Accessing only the top 10 countries"
   ]
  },
  {
   "cell_type": "code",
   "execution_count": 54,
   "id": "30011693-a10b-4254-8ac9-62b0cf1a5c7d",
   "metadata": {},
   "outputs": [],
   "source": [
    "df.columns = ['Country','GDP (Million USD)']\n",
    "#renaming the columns back to a meaningful names"
   ]
  },
  {
   "cell_type": "markdown",
   "id": "73929607-8e6a-41ec-ba46-81f23c074cf7",
   "metadata": {},
   "source": [
    "Modifying the GDP column of the DataFrame by converting the value available in Million USD to Billion USD. Using the round() method of Numpy library to round the value to 2 decimal places. Modifying the header of the DataFrame to GDP (Billion USD)."
   ]
  },
  {
   "cell_type": "code",
   "execution_count": 60,
   "id": "d9682ff6-3530-4e01-b8cb-c0e5b900eb11",
   "metadata": {},
   "outputs": [],
   "source": [
    "df['GDP (Million USD)'] = df['GDP (Million USD)'].astype(int)"
   ]
  },
  {
   "cell_type": "code",
   "execution_count": 61,
   "id": "a16ae616-057c-4701-bc47-da8a2605e1cc",
   "metadata": {},
   "outputs": [],
   "source": [
    "#Million to billion conversion \n",
    "df[['GDP (Million USD)']] = df[['GDP (Million USD)']]/1000"
   ]
  },
  {
   "cell_type": "code",
   "execution_count": 62,
   "id": "dd89d102-ec18-4264-a589-28627f3741ba",
   "metadata": {},
   "outputs": [],
   "source": [
    "#rounfing of the vales to 2 decimal places\n",
    "df[['GDP (Million USD)']] = np.round(df[['GDP (Million USD)']], 2)"
   ]
  },
  {
   "cell_type": "code",
   "execution_count": 63,
   "id": "36a127ea-1813-49e4-9ae5-9a427ce72257",
   "metadata": {},
   "outputs": [
    {
     "data": {
      "text/html": [
       "<div>\n",
       "<style scoped>\n",
       "    .dataframe tbody tr th:only-of-type {\n",
       "        vertical-align: middle;\n",
       "    }\n",
       "\n",
       "    .dataframe tbody tr th {\n",
       "        vertical-align: top;\n",
       "    }\n",
       "\n",
       "    .dataframe thead th {\n",
       "        text-align: right;\n",
       "    }\n",
       "</style>\n",
       "<table border=\"1\" class=\"dataframe\">\n",
       "  <thead>\n",
       "    <tr style=\"text-align: right;\">\n",
       "      <th></th>\n",
       "      <th>Country</th>\n",
       "      <th>GDP (Billion USD)</th>\n",
       "    </tr>\n",
       "  </thead>\n",
       "  <tbody>\n",
       "    <tr>\n",
       "      <th>1</th>\n",
       "      <td>United States</td>\n",
       "      <td>30.34</td>\n",
       "    </tr>\n",
       "    <tr>\n",
       "      <th>2</th>\n",
       "      <td>China</td>\n",
       "      <td>19.53</td>\n",
       "    </tr>\n",
       "    <tr>\n",
       "      <th>3</th>\n",
       "      <td>Germany</td>\n",
       "      <td>4.92</td>\n",
       "    </tr>\n",
       "    <tr>\n",
       "      <th>4</th>\n",
       "      <td>Japan</td>\n",
       "      <td>4.39</td>\n",
       "    </tr>\n",
       "    <tr>\n",
       "      <th>5</th>\n",
       "      <td>India</td>\n",
       "      <td>4.27</td>\n",
       "    </tr>\n",
       "    <tr>\n",
       "      <th>6</th>\n",
       "      <td>United Kingdom</td>\n",
       "      <td>3.73</td>\n",
       "    </tr>\n",
       "    <tr>\n",
       "      <th>7</th>\n",
       "      <td>France</td>\n",
       "      <td>3.28</td>\n",
       "    </tr>\n",
       "    <tr>\n",
       "      <th>8</th>\n",
       "      <td>Italy</td>\n",
       "      <td>2.46</td>\n",
       "    </tr>\n",
       "    <tr>\n",
       "      <th>9</th>\n",
       "      <td>Canada</td>\n",
       "      <td>2.33</td>\n",
       "    </tr>\n",
       "    <tr>\n",
       "      <th>10</th>\n",
       "      <td>Brazil</td>\n",
       "      <td>2.31</td>\n",
       "    </tr>\n",
       "  </tbody>\n",
       "</table>\n",
       "</div>"
      ],
      "text/plain": [
       "           Country  GDP (Billion USD)\n",
       "1    United States              30.34\n",
       "2            China              19.53\n",
       "3          Germany               4.92\n",
       "4            Japan               4.39\n",
       "5            India               4.27\n",
       "6   United Kingdom               3.73\n",
       "7           France               3.28\n",
       "8            Italy               2.46\n",
       "9           Canada               2.33\n",
       "10          Brazil               2.31"
      ]
     },
     "execution_count": 63,
     "metadata": {},
     "output_type": "execute_result"
    }
   ],
   "source": [
    "df.rename(columns = {'GDP (Million USD)' : 'GDP (Billion USD)'})"
   ]
  },
  {
   "cell_type": "code",
   "execution_count": 59,
   "id": "ea38ee78-5416-45bb-af81-11bc45143331",
   "metadata": {},
   "outputs": [],
   "source": [
    "# Load the DataFrame to the CSV file named \"Largest_economies.csv\"\n",
    "df.to_csv('./Largest_economies.csv')"
   ]
  },
  {
   "cell_type": "markdown",
   "id": "9e7585c8-ae7d-4a7c-92d1-945a02f00a7a",
   "metadata": {},
   "source": [
    "## END OF PROJECT"
   ]
  }
 ],
 "metadata": {
  "kernelspec": {
   "display_name": "Python 3 (ipykernel)",
   "language": "python",
   "name": "python3"
  },
  "language_info": {
   "codemirror_mode": {
    "name": "ipython",
    "version": 3
   },
   "file_extension": ".py",
   "mimetype": "text/x-python",
   "name": "python",
   "nbconvert_exporter": "python",
   "pygments_lexer": "ipython3",
   "version": "3.13.5"
  }
 },
 "nbformat": 4,
 "nbformat_minor": 5
}
